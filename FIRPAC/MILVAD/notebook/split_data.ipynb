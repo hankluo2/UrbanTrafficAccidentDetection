{
 "cells": [
  {
   "cell_type": "markdown",
   "id": "9f230d14",
   "metadata": {},
   "source": [
    "## This is an auxiliary tool to split train/test data sets of TRAFFIC ACCIDENT DETECTION"
   ]
  },
  {
   "cell_type": "code",
   "execution_count": 3,
   "id": "8bf508ec",
   "metadata": {},
   "outputs": [],
   "source": [
    "from pathlib import Path\n",
    "import shutil"
   ]
  },
  {
   "cell_type": "markdown",
   "id": "63422d61",
   "metadata": {},
   "source": [
    "The goal of this function is to split the synthetic **test set** into 2 parts:\n",
    "- *Train set of anomalies (accidents)*: Merge to trainset, need to reconstruct the train set directory.\n",
    "- *Test set of nominals (normal)*: Remain into the current direcotry."
   ]
  },
  {
   "cell_type": "code",
   "execution_count": 13,
   "id": "6648d356",
   "metadata": {},
   "outputs": [],
   "source": [
    "# assign the train/test directories\n",
    "train_dir = \"../datasets/CTAD/features/train\"  # mind the relative path\n",
    "test_dir = \"../datasets/CTAD/features/test\""
   ]
  },
  {
   "cell_type": "markdown",
   "id": "02c2bf00",
   "metadata": {},
   "source": [
    "##### Splitting test features"
   ]
  },
  {
   "cell_type": "code",
   "execution_count": 14,
   "id": "69f9ca58",
   "metadata": {},
   "outputs": [],
   "source": [
    "# get all normal train features (normal)\n",
    "normal_features = sorted(list(Path(train_dir).glob(\"*.npy\")))\n",
    "\n",
    "# get all anomaly features\n",
    "anomaly_features = sorted(list(Path(test_dir).glob(\"*.npy\")))\n",
    "\n",
    "# select first 40 instance of each scene into train set\n",
    "feat_to_move = [path for path in anomaly_features if int(path.stem.split('_')[1]) <= 40]"
   ]
  },
  {
   "cell_type": "markdown",
   "id": "40ceaf7e",
   "metadata": {},
   "source": [
    "##### Statistics"
   ]
  },
  {
   "cell_type": "code",
   "execution_count": 16,
   "id": "46a57508",
   "metadata": {},
   "outputs": [
    {
     "name": "stdout",
     "output_type": "stream",
     "text": [
      "Total features num: 4782, features to be moved: 2411\n",
      "Total normal features: 3473\n"
     ]
    }
   ],
   "source": [
    "total, merge = len(anomaly_features), len(feat_to_move)\n",
    "print(\"Total features num: {}, features to be moved: {}\".format(total, merge))\n",
    "\n",
    "print(\"Total normal features: {}\".format(len(normal_features)))"
   ]
  },
  {
   "cell_type": "markdown",
   "id": "0a525bf7",
   "metadata": {},
   "source": [
    "##### Reconstruct train directory:\n",
    "\n",
    "--train\n",
    "\n",
    "      --normal\n",
    "  \n",
    "      --anomaly"
   ]
  },
  {
   "cell_type": "code",
   "execution_count": 21,
   "id": "d594b2e1",
   "metadata": {},
   "outputs": [],
   "source": [
    "# Make new directories\n",
    "\n",
    "train_anomaly = Path(train_dir) / 'anomaly'\n",
    "train_anomaly.mkdir(parents=True, exist_ok=True)\n",
    "\n",
    "train_normal = Path(train_dir) / 'normal'\n",
    "train_normal.mkdir(parents=True, exist_ok=True)\n",
    "\n",
    "# Move normal features into train_normal directory\n",
    "for path in normal_features:\n",
    "    # print(f\"src: {str(path)}, dest: {str(train_normal / path.name)}\")\n",
    "    path.rename(train_normal / path.name)"
   ]
  },
  {
   "cell_type": "code",
   "execution_count": 23,
   "id": "adc838b2",
   "metadata": {},
   "outputs": [],
   "source": [
    "# Merge anomaly features into train_anomaly directory\n",
    "for path in feat_to_move:\n",
    "#     print(f\"src: {str(path)}, dest: {str(train_anomaly / path.name)}\")\n",
    "    path.rename(train_anomaly / path.name)"
   ]
  },
  {
   "cell_type": "markdown",
   "id": "5aa415dc",
   "metadata": {},
   "source": [
    "### Done"
   ]
  }
 ],
 "metadata": {
  "kernelspec": {
   "display_name": "Python 3 (ipykernel)",
   "language": "python",
   "name": "python3"
  },
  "language_info": {
   "codemirror_mode": {
    "name": "ipython",
    "version": 3
   },
   "file_extension": ".py",
   "mimetype": "text/x-python",
   "name": "python",
   "nbconvert_exporter": "python",
   "pygments_lexer": "ipython3",
   "version": "3.9.7"
  }
 },
 "nbformat": 4,
 "nbformat_minor": 5
}
